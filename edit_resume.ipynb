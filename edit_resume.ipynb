{
 "cells": [
  {
   "cell_type": "code",
   "execution_count": 1,
   "metadata": {},
   "outputs": [],
   "source": [
    "import os\n",
    "from openai import OpenAI\n",
    "import json\n",
    "# Load environment variables from .env file\n",
    "from dotenv import load_dotenv\n",
    "load_dotenv()\n",
    "\n",
    "# Accessing environment variables\n",
    "OPENAI_API_KEY = os.getenv('OPENAI_API_KEY')\n",
    "CHECK_SKILL_STACK = os.getenv('CHECK_SKILL_STACK')\n",
    "\n",
    "GPT_MODEL = \"gpt-4-turbo\"\n",
    "client = OpenAI(api_key=OPENAI_API_KEY)"
   ]
  },
  {
   "cell_type": "markdown",
   "metadata": {},
   "source": [
    "- 인트로 점검\n",
    "- 기술 스택 점검\n",
    "- 프로젝트 점검"
   ]
  },
  {
   "cell_type": "markdown",
   "metadata": {},
   "source": [
    "# 인트로 점검"
   ]
  },
  {
   "cell_type": "code",
   "execution_count": 2,
   "metadata": {},
   "outputs": [
    {
     "data": {
      "text/plain": [
       "{'check': ['소개가 기술적인 세부사항에 치중되어 있어, 개인의 역량과 특성을 부각시키는 데 다소 부족합니다.',\n",
       "  '‘나는’, ‘저는’과 같은 표현이 사용되지 않았으나, ‘제가’라는 표현이 사용되어 개선이 필요합니다.',\n",
       "  '자기소개가 너무 기술 중심으로 진행되어 있어, 개발자로서의 열정이나 동기 부여 요소가 부족합니다.'],\n",
       " 'example': ['다양한 데이터베이스 시스템과 프로그래밍 언어에 대한 깊은 이해를 바탕으로, AWS를 활용하여 안정적이고 사용자 중심의 웹 서비스를 구축해온 경험이 있습니다. 특히, GitLab CI/CD 및 GitHub Actions를 통한 효율적인 코드 통합 및 배플로 프로젝트의 품질을 높이는 데 중점을 두었습니다. 이러한 기술적 능력과 팀워크를 통해 기업의 목표 달성에 기여할 수 있습니다.']}"
      ]
     },
     "execution_count": 2,
     "metadata": {},
     "output_type": "execute_result"
    }
   ],
   "source": [
    "def evaluate_intro(user_input):\n",
    "    intro_standard = \"\"\"\n",
    "    자기에 대한 간단한 소개\n",
    "    - 개발자로서의 자신에 대한 간략한 소개를 넣었는가? 내용이 장황한 부분이 있는지 체크\n",
    "    - 기업의 관심을 이끌어 낼 내용을 넣었는가?\n",
    "    - 나는~, 저는 등의 표현 지양하기\n",
    "    - \"자신\"을 나타내는 내용이 주를 이루고 기술과 협업 관련 내용이 들어가야 함\n",
    "    애매한 표현이나 취업관점에서 적절하지 않은 표현 점검\n",
    "    간단한 소개라서 구체적인 내용이 부족할 수는 있지만 전체적인 자신에 대한 개요를 가지고 있어야 함\n",
    "    \"\"\"\n",
    "    messages = [\n",
    "        {\"role\": \"system\", \"content\": \"너는 주니어 개발자의 입사지원서류의 완성도를 높여주는 컨설턴트 로봇이야. 주어진 기준에 맞춰서 분석하고 피드백과 개선(평가 기준을 반영한) 예시를 제공해서 json 형태로 응답\"},\n",
    "        {\"role\": \"assistant\", \"content\": f\"다음과 같은 평가 기준으로 피드백을 진행할 것. {intro_standard}\\n응답결과는 check(list of string), example(list of string)으로 리턴\"},\n",
    "        {\"role\": \"user\", \"content\": user_input}\n",
    "    ]\n",
    "    response = client.chat.completions.create(\n",
    "        model=GPT_MODEL,\n",
    "        response_format={\"type\": \"json_object\"},\n",
    "        messages=messages,\n",
    "        temperature=0.5\n",
    "    )\n",
    "    content_data = json.loads(response.choices[0].message.content)\n",
    "    return content_data\n",
    "\n",
    "# Example usage:\n",
    "user_input_example = \"\"\"\n",
    "MySQL과 PostgreSQL을 이용한 데이터베이스 모델링과 Python을 활용한 백엔드 개발 경험을 바탕으로, AWS를 통한 서비스 배포 및 GitLab CI/CD, GitHub Actions를 사용한 통합 및 배포 과정에서 안정적이고 사용자 중심의 웹 서비스 구축에 기여해왔습니다. 이를 통해 제가 어떻게 팀과 협력하여 기업 목표 달성에 기여할 수 있는지 설명하고 싶습니다.\n",
    "\"\"\"\n",
    "evaluation_result = evaluate_intro(user_input_example)\n",
    "print(evaluation_result)"
   ]
  },
  {
   "cell_type": "markdown",
   "metadata": {},
   "source": [
    "# 기술스택 점검"
   ]
  },
  {
   "cell_type": "code",
   "execution_count": 3,
   "metadata": {},
   "outputs": [
    {
     "data": {
      "text/plain": [
       "{'check': ['Django 경험을 상세하게 기술하였으나, Node.js 및 SvelteKit에 대한 언급이 없습니다. 이 기술들이 우대 사항에 포함되어 있으므로 포함시키는 것이 좋습니다.',\n",
       "  '개발 문서 작성에 대한 언급이 없습니다. 지원 기업에서 이를 필수 지식으로 요구하고 있으므로, 관련 경험을 추가하는 것이 좋습니다.',\n",
       "  '웹, 모바일 서버 개발 기본 지식에 대한 구체적인 설명이 부족합니다. 이 부분을 좀 더 상세하게 기술해야 합니다.'],\n",
       " 'example': ['Backend',\n",
       "  '- Django를 활용한 데이터 베이스 모델링, 비즈니스 로직 구현과 웹 어플리케이션 개발 및 배포',\n",
       "  '- Python 서버 로직 구현',\n",
       "  '- Node.js와 SvelteKit를 사용하여 모던 웹 애플리케이션 개발 경험',\n",
       "  'AWS',\n",
       "  '- AWS 클라우드 플랫폼을 이용한 서비스 구축, 배포',\n",
       "  '- EC2를 활용한 프로젝트 서버 인프라 구축 및 관리',\n",
       "  '- S3를 이용하여 이미지 등의 대용량 데이터 저장 및 관리',\n",
       "  '- Route 53으로 도메인 등록 및 DNS 설정, 관리',\n",
       "  '- GitLab CI/CD, GitHub Actions',\n",
       "  '- GitLab CI/CD로 파이프라인을 구축하고 관리하여 지속적인 통합 및 배픏',\n",
       "  '- GitHub Actions를 활용하여 Git 레포지토리에서 CI/CD 워크플로우 구성',\n",
       "  'API',\n",
       "  '- Django REST Framework(DRF)를 사용하여 RESTful API를 설계하고 구현',\n",
       "  '- FastAPI를 사용하여 빠르고 효율적인 RESTful API를 구축',\n",
       "  'Database',\n",
       "  '- SQLite, PostgreSQL를 이용한 데이터베이스 구현, 관리',\n",
       "  '- MySQL을 이용한 Database 구현, 관리',\n",
       "  'Documentation',\n",
       "  '- 개발 프로젝트 진행 중 작성한 기술 문서 및 API 문서화 경험',\n",
       "  'Basic Knowledge',\n",
       "  '- 웹 및 모바일 서버 개발에 필수적인 네트워크, 보안 지식을 보유하고 있으며, 이를 프로젝트에 적용한 경험']}"
      ]
     },
     "execution_count": 3,
     "metadata": {},
     "output_type": "execute_result"
    }
   ],
   "source": [
    "def evaluate_skill_stack(user_input):\n",
    "    company_skills = \"\"\"\n",
    "    (1) 필수 지식\n",
    "    웹, 모바일 서버 개발 기본 지식\n",
    "    개발 문서 작성\n",
    "    (2) 우대 경험\n",
    "    Django 기반 개발 경험\n",
    "    Node.js 기반 웹 개발 경험(SvelteKit)\n",
    "    \"\"\"\n",
    "    skillstack_standard = \"\"\"\n",
    "    - 지원 기업에서 요구하는 기술은 왠만하면 다 넣자\n",
    "    - 우대 사항은 상단에 배치하자\n",
    "    - 카테고리 → 세부내용 형���으로 가독성을 높이자\n",
    "    - 기초 수준이라는 표현은 쓰지 말자\n",
    "    - 많이 쓰자\n",
    "    - 개발 스킬 뿐만 아니라 소통, 문서 작성 등의 내용도 좋다\n",
    "    - 중요한 내용을 먼저 쓰자\n",
    "    \"\"\"\n",
    "    messages = [\n",
    "        {\"role\": \"system\", \"content\": \"너는 주니어 개발자의 입사지원서류의 완성도를 높여주는 컨설턴트 로봇이야. 주어진 기준에 맞춰서 분석하고 피드백과 개선(평가 기준을 반영한) 예시를 제공해서 json 형태로 응답\"},\n",
    "        {\"role\": \"assistant\", \"content\": f\"기술 스택에 항목에 대한 작성 내용을 다음과 같은 평가 기준으로 피드백을 진행할 것. 익히지 않은 기술 스택이 있을 수 있기 때문에 빠진 내용이 있다면 언급만 해주기. 예시사항은 기술 스택 항목만 작성하는게 원칙임. 기업 요구 사항 : {company_skills} \\n평가정보 : {skillstack_standard}\\n 응답결과는 check(list of string), example(list of string)으로 리턴\"},\n",
    "        {\"role\": \"user\", \"content\": user_input}\n",
    "    ]\n",
    "    response = client.chat.completions.create(\n",
    "                model=GPT_MODEL,\n",
    "                response_format={\"type\": \"json_object\"},\n",
    "                messages=messages,\n",
    "                temperature=0.5\n",
    "            )\n",
    "    content_data = json.loads(response.choices[0].message.content)\n",
    "    return content_data\n",
    "\n",
    "# Example usage:\n",
    "user_input_example = \"\"\"\n",
    "Backend\n",
    "-Django를 활용한 데이터 베이스 모델링, 비즈니스 로직 구현과 웹 어플리\n",
    "-케이션 개발 및 배포\n",
    "-Python 서버 로직 구현\n",
    "AWS\n",
    "-AWS 클라우드 플랫폼을 이용한 서비스 구축, 배포\n",
    "-EC2를 활용한 프로젝트 서버 인프라 구축 및 관리\n",
    "-S3를 이용하여 이미지 등의 대용량 데이터 저장 및 관리\n",
    "-Route 53으로 도메인 등록 및 DNS 설정, 관리\n",
    "-GitLab CI/CD, GitHub Actions\n",
    "-GitLab CI/CD로 파이프라인을 구축하고 관리하여 지속적인 통합 및 배포\n",
    "-GitHub Actions를 활용하여 Git 레포지토리에서 CI/CD 워크플로우 구성\n",
    "API\n",
    "-Django REST Framework(DRF)를 사용하여 RESTful API를 설계하고 구현\n",
    "-FastAPI를 사용하여 빠르고 효율적인 RESTful API를 구축\n",
    "Database\n",
    "-SQLite, PostgreSQL를 이용한 데이터베이스 구현, 관리\n",
    "-MySQL을 이용한 Database 구현, 관리\n",
    "\"\"\"\n",
    "evaluation_result = evaluate_skill_stack(user_input_example)\n",
    "print(evaluation_result)"
   ]
  },
  {
   "cell_type": "markdown",
   "metadata": {},
   "source": [
    "# 프로젝트 점검"
   ]
  },
  {
   "cell_type": "code",
   "execution_count": 4,
   "metadata": {},
   "outputs": [
    {
     "data": {
      "text/plain": [
       "{'check': ['프로젝트의 목적과 필요성에 대한 설명이 부족합니다. 독자가 프로젝트의 중요성을 이해할 수 있도록 간략하게 추가하는 것이 좋습니다.',\n",
       "  '프로젝트의 세부 내용이 기술적인 설명으로만 이루어져 있습니다. 각 기술이 프로젝트에서 어떤 문제를 해결했는지 구체적인 결과나 수치를 제공하면 더 좋을 것입니다.',\n",
       "  '프로젝트의 내용을 카테고리와 세부내용 형식으로 정리할 필요가 있습니다. 현재는 서술형으로 길게 쓰여 있어 정보의 전달이 다소 비효율적입니다.',\n",
       "  '프로젝트의 중요성에 따라 내용을 재배치할 필요가 있습니다. 가장 중요한 기능이나 성과를 먼저 언급하는 것이 좋습니다.',\n",
       "  '깃허브 링크를 추가하여 프로젝트에 대한 더 자세한 내용을 제공할 수 있습니다.'],\n",
       " 'example': ['Project MusicMall-MVP',\n",
       "  'Period: 2차 2024년 4월 19일 → 2024년 5월 9일, 3차 2024년 5월 31일 → 2024년 6월 25일',\n",
       "  'Position: 3차 Team Leader / Back-end, Front-end, Wireframe 제작',\n",
       "  'Description:',\n",
       "  '  - 목적: 인디 음악가들을 위한 통합 플랫폼 제공하여 독립 음악 시장 활성화',\n",
       "  '  - 기술 스택:',\n",
       "  '    - Front-end: Ajax, axios를 사용하여 실시간 검색 기능 구현',\n",
       "  '    - Back-end: Redis를 활용하여 음악 리스트 로딩 시간 50% 감소',\n",
       "  '    - 배포: AWS EC2, Nginx, Gunicorn, Docker 사용, S3에 이미지 저장 및 Route 53으로 도메인 연결',\n",
       "  '  - 성과: 검색 시간 개선으로 사용자 경험 향상, 페이지 로딩 시간 단축으로 인한 트래픽 증가',\n",
       "  '  - GitHub Link: [GitHub 프로젝트 링크]']}"
      ]
     },
     "execution_count": 4,
     "metadata": {},
     "output_type": "execute_result"
    }
   ],
   "source": [
    "def evaluate_project_experience(client, GPT_MODEL, user_input):\n",
    "    project_standard = \"\"\"\n",
    "    - 간단히 필요성, 목적 등을 적어 해당 프로젝트를 이해할 수 있도록 넣기\n",
    "    - 카테고리 → 세부내용 형식. 절대로 많은 문장으로 이루어진 서술형으로 쓰지 말자!\n",
    "    - 중요한 프로젝트를 위에 넣기\n",
    "    - 프로젝트에서 개발한 내용을 자세히 넣거나 간단히 적고 깃허브 링크를 연결(���허브에는 자세한 내용이 있어야 함)\n",
    "    - 개발의 내용을 수치적으로 표현할 수 있는 자료가 있으면 좋음(어떤 기술을 적용하여 좋아졌다는 비교, 또는 정량적 지표로 측정)\n",
    "    \"\"\"\n",
    "    messages = [\n",
    "        {\"role\": \"system\", \"content\": \"너는 주니어 개발자의 입사지원서류의 완성도를 높여주는 컨설턴트 로봇이야. 주어진 기준에 맞춰서 분석하고 피드백과 개선(평가 기준을 반영한) 예시를 제공해서 json 형태로 응답\"},\n",
    "        {\"role\": \"assistant\", \"content\": f\"프로젝트 경험 항목에 대한 작성 내용을 다음과 같은 평가 기준으로 피드백을 진행할 것. 예시사항은 기술 스택 항목만 작성하는게 원칙임. 평가정보 : {project_standard}\\n응답결과는 check(list of string), example(list of string)으로 리턴\"},\n",
    "        {\"role\": \"user\", \"content\": user_input}\n",
    "    ]\n",
    "    response = client.chat.completions.create(\n",
    "        model=GPT_MODEL,\n",
    "        response_format={\"type\": \"json_object\"},\n",
    "        messages=messages,\n",
    "        temperature=0.5\n",
    "    )\n",
    "    content_data = json.loads(response.choices[0].message.content)\n",
    "    return content_data"
   ]
  }
 ],
 "metadata": {
  "kernelspec": {
   "display_name": "test",
   "language": "python",
   "name": "python3"
  },
  "language_info": {
   "codemirror_mode": {
    "name": "ipython",
    "version": 3
   },
   "file_extension": ".py",
   "mimetype": "text/x-python",
   "name": "python",
   "nbconvert_exporter": "python",
   "pygments_lexer": "ipython3",
   "version": "3.10.12"
  }
 },
 "nbformat": 4,
 "nbformat_minor": 2
}
